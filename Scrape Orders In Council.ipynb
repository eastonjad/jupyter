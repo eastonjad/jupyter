{
 "cells": [
  {
   "cell_type": "markdown",
   "metadata": {},
   "source": [
    "# Scrape Appointees from Orders in Council"
   ]
  },
  {
   "cell_type": "markdown",
   "metadata": {},
   "source": [
    "## Get Search Page"
   ]
  },
  {
   "cell_type": "code",
   "execution_count": 1,
   "metadata": {},
   "outputs": [],
   "source": [
    "import mechanicalsoup\n",
    "import re"
   ]
  },
  {
   "cell_type": "code",
   "execution_count": 2,
   "metadata": {},
   "outputs": [],
   "source": [
    "browser = mechanicalsoup.StatefulBrowser()"
   ]
  },
  {
   "cell_type": "code",
   "execution_count": 3,
   "metadata": {},
   "outputs": [],
   "source": [
    "url = \"https://orders-in-council.canada.ca/index.php?lang=en\""
   ]
  },
  {
   "cell_type": "code",
   "execution_count": 4,
   "metadata": {},
   "outputs": [
    {
     "data": {
      "text/plain": [
       "<Response [200]>"
      ]
     },
     "execution_count": 4,
     "metadata": {},
     "output_type": "execute_result"
    }
   ],
   "source": [
    "browser.open(url)"
   ]
  },
  {
   "cell_type": "markdown",
   "metadata": {},
   "source": [
    "## Enter Form Search Criteria"
   ]
  },
  {
   "cell_type": "code",
   "execution_count": 5,
   "metadata": {},
   "outputs": [
    {
     "data": {
      "text/plain": [
       "<mechanicalsoup.form.Form at 0x7f06bc033b80>"
      ]
     },
     "execution_count": 5,
     "metadata": {},
     "output_type": "execute_result"
    }
   ],
   "source": [
    "browser.select_form()"
   ]
  },
  {
   "cell_type": "code",
   "execution_count": 6,
   "metadata": {},
   "outputs": [],
   "source": [
    "browser[\"fromDate\"] = \"1993-01-01\""
   ]
  },
  {
   "cell_type": "code",
   "execution_count": 7,
   "metadata": {},
   "outputs": [
    {
     "name": "stdout",
     "output_type": "stream",
     "text": [
      "<input class=\"form-control inputText\" id=\"pcNumber\" name=\"pcNumber\" placeholder=\"yyyy-nnnn\" type=\"text\"/>\n",
      "<input class=\"form-control inputText\" name=\"fromDate\" placeholder=\"yyyy-mm-dd\" type=\"text\" value=\"1993-01-01\"/>\n",
      "<input class=\"form-control inputText\" name=\"toDate\" placeholder=\"yyyy-mm-dd\" type=\"text\"/>\n",
      "<input class=\"form-control inputText\" name=\"keywords\" type=\"text\"/>\n",
      "<input class=\"form-control inputText\" name=\"department\" type=\"text\"/>\n",
      "<input class=\"form-control inputText\" name=\"act\" type=\"text\"/>\n",
      "<input class=\"form-control inputText\" name=\"chapterNumber\" type=\"text\"/>\n",
      "<input class=\"form-control inputText\" name=\"chapterYear\" type=\"text\"/>\n",
      "<input class=\"form-control inputText\" name=\"billNumber\" type=\"text\"/>\n",
      "<input name=\"foa\" type=\"radio\" value=\"1\"/>\n",
      "<input name=\"foa\" type=\"radio\" value=\"0\"/>\n",
      "<input checked=\"\" name=\"foa\" type=\"radio\" value=\"na\"/>\n",
      "<input class=\"btn btn-primary\" id=\"btnSearch\" name=\"searchList\" type=\"submit\" value=\"Search/ List\"/>\n",
      "<input class=\"btn btn-default\" name=\"clear\" type=\"submit\" value=\"Clear\"/>\n"
     ]
    }
   ],
   "source": [
    "browser.form.print_summary()"
   ]
  },
  {
   "cell_type": "code",
   "execution_count": 8,
   "metadata": {},
   "outputs": [],
   "source": [
    "#browser.launch_browser()"
   ]
  },
  {
   "cell_type": "markdown",
   "metadata": {},
   "source": [
    "## Submit Form and Retrieve Results Page"
   ]
  },
  {
   "cell_type": "code",
   "execution_count": 9,
   "metadata": {},
   "outputs": [],
   "source": [
    "response = browser.submit_selected()"
   ]
  },
  {
   "cell_type": "code",
   "execution_count": 10,
   "metadata": {
    "collapsed": true,
    "jupyter": {
     "outputs_hidden": true
    }
   },
   "outputs": [
    {
     "name": "stdout",
     "output_type": "stream",
     "text": [
      "﻿﻿<!DOCTYPE html>\n",
      "<!--[if lt IE 9]><html class=\"no-js lt-ie9\" lang=\"en\" dir=\"ltr\"><![endif]-->\n",
      "<!--[if gt IE 8]><!-->\n",
      "<html xmlns=\"http://www.w3.org/1999/xhtml\" class=\"no-js\" lang=\"en\" dir=\"ltr\">\n",
      "<!--<![endif]-->\n",
      "<head>\n",
      "    <meta charset=\"utf-8\" />\n",
      "    <!-- Web Experience Toolkit (WET) / Boite a outils de lexperience Web (BOEW)\n",
      "        wet-boew.github.io/wet-boew/License-en.html / wet-boew.github.io/wet-boew/Licence-fr.html -->\n",
      "    <title>Orders In Council - Search</title>\n",
      "    <meta content=\"width=device-width,initial-scale=1\" name=\"viewport\" />\n",
      "    <link rel=\"shortcut icon\" href=\"/wet-boew/theme-gcwu-fegc/images/favicon.ico\" />\n",
      "    <meta name=\"description\" content=\"Orders In Council - Search\" />\n",
      "    <meta name=\"dcterms.creator\" content=\"Government of Canada\" />\n",
      "    <meta name=\"dcterms.title\" content=\"Orders In Council - Search\" />\n",
      "    <meta name=\"dcterms.subject\" title=\"scheme\" content=\"Politics\" />\n",
      "    <meta name=\"dcterms.language\" title=\"ISO639-2\" content=\"en\" />\n",
      "    <meta name=\"viewport\" content=\"width=device-width, initial-scale=1\" />\n",
      "\n",
      "    <!-- Load closure template scripts -->\n",
      "\t<script type=\"text/javascript\" src=\"https://www.canada.ca/etc/designs/canada/cdts/gcweb/rn/cdts/compiled/soyutils.js\"></script>\n",
      "    <script type=\"text/javascript\" src=\"https://www.canada.ca/etc/designs/canada/cdts/gcweb/rn/cdts/compiled/wet-en.js\"></script>\n",
      "    <noscript>\n",
      "        <!-- Write closure fall-back static file -->\n",
      "        \t\t<!--[if gte IE 9 | !IE ]><!-->\n",
      "\t\t<link href=\"https://www.canada.ca/etc/designs/canada/cdts/gcweb/v4_0_26/assets/favicon.ico\" rel=\"icon\" type=\"image/x-icon\">\n",
      "\t\t<link rel=\"stylesheet\" href=\"https://www.canada.ca/etc/designs/canada/cdts/gcweb/v4_0_26/css/theme.min.css\">\n",
      "\t\t<link rel=\"stylesheet\" href=\"https://www.canada.ca/etc/designs/canada/cdts/gcweb/v4_0_26/cdts/cdtsfixes.css\">\n",
      "\t\t<!-- Are you using the application templates? If so add the following CSS file -->\n",
      "\t\t<!-- <link rel=\"stylesheet\" href=\"https://www.canada.ca/etc/designs/canada/cdts/gcweb/v4_0_26/cdts/cdtsapps.css\">-->\n",
      "\t\t<!--<![endif]-->\n",
      "\t\t<!--[if lt IE 9]>\n",
      "\t\t<link href=\"https://www.canada.ca/etc/designs/canada/cdts/gcweb/v4_0_26/assets/favicon.ico\" rel=\"shortcut icon\" />\n",
      "\t\t<link rel=\"stylesheet\" href=\"https://www.canada.ca/etc/designs/canada/cdts/gcweb/v4_0_26/css/ie8-theme.min.css\" />\n",
      "\t\t<![endif]-->\n",
      "\t\t<!--[if lte IE 9]><![endif]-->\n",
      "\t\t<link rel=\"stylesheet\" href=\"https://www.canada.ca/etc/designs/canada/cdts/gcweb/v4_0_26/css/noscript.min.css\" />\n",
      "\t\t<link rel=\"stylesheet\" href=\"https://www.canada.ca/etc/designs/canada/cdts/gcweb/v4_0_26/cdts/cdtsnoscript.css\" />    </noscript>\n",
      "    <!-- Write closure template -->\n",
      "    <script type=\"text/javascript\">\n",
      "        document.write(wet.builder.refTop({\n",
      "            cdnEnv: \"prod\"\n",
      "        }));\n",
      "    </script>\n",
      "\n",
      "\n",
      "    <!-- CustomCSSStart -->\n",
      "    <style type=\"text/css\">\n",
      "        .gcwu-minister-in{background:#eee url(/wet-boew/images/bg-minister-bottom.gif) no-repeat right bottom;}\n",
      "        .gcwu-minister p{background:#fff url(/wet-boew/images/bg-minister-top.gif) no-repeat right top;}\n",
      "        #gcwu-video .mediaplayer{line-height:0;}\n",
      "        #gcwu-video ul.mp-downloadable{position:absolute;clip:rect(1px, 1px, 1px, 1px);height:1px;width:1px;overflow:hidden;}\n",
      "        #gcwu-video div.background-dark{background:#eee !important;color:#000;padding-bottom:10px;}\n",
      "    </style>\n",
      "\t<link href=\"css/site_institution.css\" media=\"screen, print\" rel=\"stylesheet\" type=\"text/css\" />\n",
      "    <!-- CustomCSSEnd -->\n",
      "</head>\n",
      "<!-- Begin Top of Page -->\n",
      "<body vocab=\"http://schema.org/\" typeof=\"WebPage\" onload=\"highlightAnchor()\">\n",
      "\n",
      "<!-- Web Experience Toolkit (WET) / Boite a  outils de l'experience Web (BOEW)\n",
      "wet-boew.github.io/wet-boew/License-en.html / wet-boew.github.io/wet-boew/Licence-fr.html -->\n",
      "<!-- DataAjaxFragmentStart -->\n",
      "<!-- secondary navigation if enabled -->\n",
      "\n",
      "\n",
      "    <div id=\"def-top\">\n",
      "      <!-- Write closure fall-back static file -->\n",
      "\n",
      "\n",
      "    </div>\n",
      "    <!-- Write closure template -->\n",
      "\t\n",
      "\t<script type=\"text/javascript\">\n",
      "        var defTop = document.getElementById(\"def-top\");\n",
      "\t\t\n",
      "        defTop.outerHTML = wet.builder.top({\n",
      "            cdnEnv: \"prod\",\n",
      "            secure: false,\n",
      "            topSecMenu: true,\n",
      "            appName: 'Orders In Council - Search',\n",
      "\n",
      "            lngLinks: [{\n",
      "                lang: \"fr\",\n",
      "                href: \"/results.php?lang=fr\",\n",
      "                text: \"Fran&ccedil;ais\"\n",
      "            }],\n",
      "            breadcrumbs: [{\n",
      "\t\t\ttitle: 'Home',\n",
      "                href: \"https://www.canada.ca/en/privy-council/services/orders-in-council.html?lang=en\"\n",
      "            },\n",
      "            {\n",
      "                title: 'Orders in Council Division',\n",
      "                href: \"/index.php?lang=en\"\n",
      "            }, \n",
      "\n",
      "            {\n",
      "                title: \"Orders In Council - Search\"\n",
      "            }]\n",
      "        });\n",
      "\t\t\n",
      "    </script>\n",
      "\t\n",
      "    \n",
      "<div class='container'><div class='row'>    <main role=\"main\" property=\"mainContentOfPage\" class=\"container col-md-12 col-md-push-0\">\n",
      "<form action=\"index.php\" method=\"post\"><ul class='btn-toolbar list-inline' role='toolbar'><li class='btn-group'><a class='pagebutton' href='results.php?pageNum=1&amp;lang=en'><span class='currentpage btn btn-default'>1</span></a><a class='pagebutton' href='results.php?pageNum=2&amp;lang=en'><span class='btn btn-default'>2</span></a><a class='pagebutton' href='results.php?pageNum=3&amp;lang=en'><span class='btn btn-default'>3</span></a><a class='pagebutton' href='results.php?pageNum=4&amp;lang=en'><span class='btn btn-default'>4</span></a><a class='pagebutton' href='results.php?pageNum=5&amp;lang=en'><span class='btn btn-default'>5</span></a><a class='pagebutton' href='results.php?pageNum=6&amp;lang=en'><span class='btn btn-default'>6</span></a></li></ul><a class='pagebutton' href='results.php?pageNum=10561&amp;lang=en'><span class='btn btn-default first'>10561</span></a><br/><br/><table border='1px'  style='width: 100%;'> <tr><td>&nbsp;</td>\n",
      "\t\t\t\t\t<th>PC Number</th>\n",
      "\t\t\t\t\t<th>Date</th>\n",
      "\t\t\t\t\t<th>Chapter</th>\n",
      "\t\t\t\t\t<th>Bill</th>\n",
      "\t\t\t\t\t<th>Dept</th></tr><tr><td style='min-width: 120px;'>&nbsp;</td><td>2021-0007</td><td>2021-01-11</td><td></td><td></td><td>,&nbsp; ,&nbsp; ,&nbsp; ,&nbsp; PMO</td><tr><td>Act</td><td colspan='5'>Parliament of Canada Act</td></tr><tr><td>Subject</td><td colspan='5'>Parliamentary Secretaries</td></tr><tr><td>Precis</td><td colspan='5' id='precis'>Order terminating the appointment of the Honourable Omar Alghabra as Parliamentary Secretary to the Prime Minister, made by Order in Council P.C. 2020-1020 of December 9, 2020, effective January 12, 2021.</td></tr><tr><td>Attachments</td><td colspan='5'><a href='attachment.php?attach=40168&amp;lang=en'>Attachment</a></td></tr><table border='1px'  style='width: 100%;'> <tr><td>&nbsp;</td>\n",
      "\t\t\t\t\t<th>PC Number</th>\n",
      "\t\t\t\t\t<th>Date</th>\n",
      "\t\t\t\t\t<th>Chapter</th>\n",
      "\t\t\t\t\t<th>Bill</th>\n",
      "\t\t\t\t\t<th>Dept</th></tr><tr><td style='min-width: 120px;'>&nbsp;</td><td>2021-0006</td><td>2021-01-09</td><td></td><td></td><td>,&nbsp; ,&nbsp; ,&nbsp; PMO,&nbsp; </td><tr><td>Act</td><td colspan='5'>Nunavut Act</td></tr><tr><td>Precis</td><td colspan='5' id='precis'>Appointment of EVA QAMANIQ AARIAK of Iqaluit, Nunavut, to be Commissioner of Nunavut for a term of five years, effective January 14, 2021.</td></tr><tr><td>Attachments</td><td colspan='5'><a href='attachment.php?attach=40165&amp;lang=en'>Attachment</a></td></tr><table border='1px'  style='width: 100%;'> <tr><td>&nbsp;</td>\n",
      "\t\t\t\t\t<th>PC Number</th>\n",
      "\t\t\t\t\t<th>Date</th>\n",
      "\t\t\t\t\t<th>Chapter</th>\n",
      "\t\t\t\t\t<th>Bill</th>\n",
      "\t\t\t\t\t<th>Dept</th></tr><tr><td style='min-width: 120px;'>&nbsp;</td><td>2021-0005</td><td>2021-01-08</td><td></td><td></td><td>,&nbsp; ,&nbsp; ECCC,&nbsp; ,&nbsp; </td><tr><td>Act</td><td colspan='5'>Historic Sites and Monuments Act</td></tr><tr><td>Precis</td><td colspan='5' id='precis'>Appointment of SARAH JEROME of Inuvik, Northwest Territories, to be a member of the Historic Sites and Monuments Board of Canada, as a representative of the Northwest Territories, to hold office during pleasure for a period of five years.</td></tr><tr><td>Attachments</td><td colspan='5'><a href='attachment.php?attach=40164&amp;lang=en'>Attachment</a></td></tr><table border='1px'  style='width: 100%;'> <tr><td>&nbsp;</td>\n",
      "\t\t\t\t\t<th>PC Number</th>\n",
      "\t\t\t\t\t<th>Date</th>\n",
      "\t\t\t\t\t<th>Chapter</th>\n",
      "\t\t\t\t\t<th>Bill</th>\n",
      "\t\t\t\t\t<th>Dept</th></tr><tr><td style='min-width: 120px;'>&nbsp;</td><td>2021-0004</td><td>2021-01-08</td><td></td><td></td><td>,&nbsp; IT,&nbsp; ,&nbsp; ,&nbsp; </td><tr><td>Act</td><td colspan='5'>Business Development Bank of Canada Act</td></tr><tr><td>Precis</td><td colspan='5' id='precis'>Approval of the appointment by the Minister for International Trade of DONALD WILLIAM CURRIE of Toronto, Ontario, to be a director of the Board of Directors of the Business Development Bank of Canada, to hold office during pleasure for a term of four years, in the place of Robert H. Pitfield, whose term has expired.</td></tr><tr><td>Attachments</td><td colspan='5'><a href='attachment.php?attach=40163&amp;lang=en'>Attachment</a></td></tr><table border='1px'  style='width: 100%;'> <tr><td>&nbsp;</td>\n",
      "\t\t\t\t\t<th>PC Number</th>\n",
      "\t\t\t\t\t<th>Date</th>\n",
      "\t\t\t\t\t<th>Chapter</th>\n",
      "\t\t\t\t\t<th>Bill</th>\n",
      "\t\t\t\t\t<th>Dept</th></tr><tr><td style='min-width: 120px;'>&nbsp;</td><td>2021-0003</td><td>2021-01-08</td><td></td><td></td><td>CH,&nbsp; ,&nbsp; ,&nbsp; ,&nbsp; </td><tr><td>Act</td><td colspan='5'>Cultural Property Export and Import Act</td></tr><tr><td>Precis</td><td colspan='5' id='precis'>Reappointment of LAURIE DALTON of Wolfville, Nova Scotia, as a member of the Canadian Cultural Property Export Review Board, to hold office during pleasure for a term of three years.</td></tr><tr><td>Attachments</td><td colspan='5'><a href='attachment.php?attach=40162&amp;lang=en'>Attachment</a></td></tr></table><br><ul class='btn-toolbar list-inline' role='toolbar'><li class='btn-group'><a class='pagebutton' href='results.php?pageNum=1&amp;lang=en'><span class='currentpage btn btn-default'>1</span></a><a class='pagebutton' href='results.php?pageNum=2&amp;lang=en'><span class='btn btn-default'>2</span></a><a class='pagebutton' href='results.php?pageNum=3&amp;lang=en'><span class='btn btn-default'>3</span></a><a class='pagebutton' href='results.php?pageNum=4&amp;lang=en'><span class='btn btn-default'>4</span></a><a class='pagebutton' href='results.php?pageNum=5&amp;lang=en'><span class='btn btn-default'>5</span></a><a class='pagebutton' href='results.php?pageNum=6&amp;lang=en'><span class='btn btn-default'>6</span></a></li></ul><a class='pagebutton' href='results.php?pageNum=10561&amp;lang=en'><span class='btn btn-default first'>10561</span></a><br><br><br><input type=\"submit\" value=\"Reset / Back to Form\" name=\"reset\" id=\"btnSearch\" class=\"btn btn-primary reset-btn\"></form>\t\n",
      "\n",
      "\n",
      "\t\t\n",
      "        <!-- end main content -->\n",
      "        <div id=\"def-preFooter\">\n",
      "       \t\t<!-- Write closure fall-back static file -->\n",
      "             <!--Response.Write readFile(\"StaticFallbackFiles/gcweb/preFooter-\" & $lang & \".html\") -->\n",
      "        </div>\n",
      "\t\t<!-- Write closure template -->\n",
      "        <script type=\"text/javascript\">\n",
      "            var defPreFooter = document.getElementById(\"def-preFooter\");\n",
      "            defPreFooter.outerHTML = wet.builder.preFooter({\n",
      "                cdnEnv: \"prod\",\n",
      "                dateModified: \"2017-04-31\",\n",
      "                showPostContent: true\n",
      "            });\n",
      "        </script>\n",
      "    </main>\n",
      "<!--  Site menu activate remove this comment \n",
      "nav class=\"wb-sec col-md-3 col-md-pull-9\" typeof=\"SiteNavigationElement\" id=\"wb-sec\" role=\"navigation\"-->\n",
      "        <!-- Write closure fall-back static file -->\n",
      "<!-- ?php\n",
      " //   Site menu activate remove this comment prntMnu (False, False, $intMenuID, $strBannerTitle, $lang) ?>    </nav -->\n",
      "    <!-- Write closure template -->\n",
      "<!--\n",
      "  Site menu activate remove this comment \n",
      "  script type=\"text/javascript\">\n",
      "        var secondarymenu = document.getElementById(\"wb-sec\");\n",
      "        secondarymenu.innerHTML = wet.builder.secmenu({\n",
      "            sections: [\n",
      "           ]\n",
      "        });\n",
      "    </script -->\n",
      "    </div></div>\n",
      "\n",
      "\n",
      "    <div id=\"def-footer\">\n",
      "       \t<!-- Write closure fall-back static file -->\n",
      "      \t\t<aside class=\"gc-nttvs container\">\n",
      "\t\t\t<h2>Government of Canada activities and initiatives</h2>\n",
      "\t\t\t<div id=\"gcwb_prts\" class=\"wb-eqht row\">\n",
      "\t\t\t\t<p class=\"mrgn-lft-md\"><a href=\"https://www.canada.ca/activities.html\">Access Government of Canada activities and initiatives</a></p>\n",
      "\t\t\t</div>\n",
      "\t\t</aside>\n",
      "\t\t<footer role=\"contentinfo\" id=\"wb-info\">\n",
      "\t\t\t<nav role=\"navigation\" class=\"container wb-navcurr\">\n",
      "\t\t\t\t<h2 class=\"wb-inv\">About government</h2>\n",
      "\t\t\t\t<ul class=\"list-unstyled colcount-sm-2 colcount-md-3\">\n",
      "\t\t\t\t\t<li><a href=\"https://www.canada.ca/en/contact.html\">Contact us</a></li>\n",
      "\t\t\t\t\t<li><a href=\"https://www.canada.ca/en/government/dept.html\">Departments and agencies</a></li>\n",
      "\t\t\t\t\t<li><a href=\"https://www.canada.ca/en/government/publicservice.html\">Public service and military</a></li>\n",
      "\t\t\t\t\t<li><a href=\"http://www.servicecanada.gc.ca/gcnews\">News</a></li>\n",
      "\t\t\t\t\t<li><a href=\"https://www.canada.ca/en/government/system/laws.html\">Treaties, laws and regulations</a></li>\n",
      "\t\t\t\t\t<li><a href=\"https://www.canada.ca/en/transparency/reporting.html\">Government-wide reporting</a></li>\n",
      "\t\t\t\t\t<li><a href=\"http://pm.gc.ca/eng\">Prime Minister</a></li>\n",
      "\t\t\t\t\t<li><a href=\"https://www.canada.ca/en/government/system.html\">How government works</a></li>\n",
      "\t\t\t\t\t<li><a href=\"http://open.canada.ca/en/\">Open government</a></li>\n",
      "\t\t\t\t</ul>\n",
      "\t\t\t</nav>\n",
      "\t\t\t<div class=\"brand\">\n",
      "\t\t\t\t<div class=\"container\">\n",
      "\t\t\t\t\t<div class=\"row\">\n",
      "\t\t\t\t\t\t<nav class=\"col-md-10 ftr-urlt-lnk\">\n",
      "\t\t\t\t\t\t\t<h2 class=\"wb-inv\">About this site</h2>\n",
      "\t\t\t\t\t\t\t<ul>\n",
      "\t\t\t\t\t\t\t\t<li><a href=\"https://www.canada.ca/en/social.html\">Social media</a></li>\n",
      "\t\t\t\t\t\t\t\t<li><a href=\"https://www.canada.ca/en/mobile.html\">Mobile applications</a></li>\n",
      "\t\t\t\t\t\t\t\t<li><a href=\"https://www1.canada.ca/en/newsite.html\">About Canada.ca</a></li>\n",
      "\t\t\t\t\t\t\t\t<li><a href=\"https://www.canada.ca/en/transparency/terms.html\">Terms and conditions</a></li>\n",
      "\t\t\t\t\t\t\t\t<li><a href=\"https://www.canada.ca/en/transparency/privacy.html\">Privacy</a></li>\n",
      "\t\t\t\t\t\t\t</ul>\n",
      "\t\t\t\t\t\t</nav>\n",
      "\t\t\t\t\t\t<div class=\"col-xs-6 visible-sm visible-xs tofpg\">\n",
      "\t\t\t\t\t\t\t<a href=\"#wb-cont\">Top of Page <span class=\"glyphicon glyphicon-chevron-up\"></span></a>\n",
      "\t\t\t\t\t\t</div>\n",
      "\t\t\t\t\t\t<div class=\"col-xs-6 col-md-2 text-right\">\n",
      "\t\t\t\t\t\t\t<object type=\"image/svg+xml\" tabindex=\"-1\" role=\"img\" data=\"https://www.canada.ca/etc/designs/canada/cdts/gcweb/v4_0_26/assets/wmms-blk.svg\" aria-label=\"Symbol of the Government of Canada\"></object>\n",
      "\t\t\t\t\t\t</div>\n",
      "\t\t\t\t\t</div>\n",
      "\t\t\t\t</div>\n",
      "\t\t\t</div>\n",
      "\t\t</footer> \n",
      "    </div>\n",
      "    <!-- Write closure template -->\n",
      "    <script type=\"text/javascript\">\n",
      "        var defFooter = document.getElementById(\"def-footer\");\n",
      "        defFooter.outerHTML = wet.builder.footer({\n",
      "            cdnEnv: \"prod\",\n",
      "            contactLinks: [{ href: \"/prsnt.asp?menu=3&page=Contact+Us&lang=\" }]\n",
      "        });\n",
      "    </script>\n",
      "    <!-- Write closure template -->\n",
      "    <script type=\"text/javascript\">\n",
      "        document.write(wet.builder.refFooter({\n",
      "            cdnEnv: \"prod\"\n",
      "        }));\n",
      "    </script>\n",
      "\n",
      "    <!-- CustomScriptsStart -->\n",
      "    <script type=\"text/javascript\">\n",
      "        /* <![CDATA[ */\n",
      "        function highlightAnchor() {\n",
      "            if (self.document.location.hash != '') {\n",
      "                var hash;\n",
      "                var anchor;\n",
      "                hash = unescape(self.document.location.hash.substring(1));\n",
      "                if (document.getElementsByName) {\n",
      "                    anchors = document.getElementsByName(hash);\n",
      "                    if (anchors[0]) {\n",
      "                        anchors[0].className = \"highlight\";\n",
      "                    }\n",
      "                }\n",
      "            }\n",
      "        }\n",
      "        \n",
      "        /* ]]> */\n",
      "    </script>\n",
      "\n",
      "</body>\n",
      "</html>\n",
      "\n",
      "\t\n"
     ]
    }
   ],
   "source": [
    "print(response.text)"
   ]
  },
  {
   "cell_type": "code",
   "execution_count": 11,
   "metadata": {},
   "outputs": [
    {
     "name": "stdout",
     "output_type": "stream",
     "text": [
      "Links in the current page:\n",
      "     <a class=\"pagebutton\" href=\"results.php?pageNum=1&amp;lang=en\"><span class=\"currentpage btn btn-default\">1</span></a>\n",
      "     <a class=\"pagebutton\" href=\"results.php?pageNum=2&amp;lang=en\"><span class=\"btn btn-default\">2</span></a>\n",
      "     <a class=\"pagebutton\" href=\"results.php?pageNum=3&amp;lang=en\"><span class=\"btn btn-default\">3</span></a>\n",
      "     <a class=\"pagebutton\" href=\"results.php?pageNum=4&amp;lang=en\"><span class=\"btn btn-default\">4</span></a>\n",
      "     <a class=\"pagebutton\" href=\"results.php?pageNum=5&amp;lang=en\"><span class=\"btn btn-default\">5</span></a>\n",
      "     <a class=\"pagebutton\" href=\"results.php?pageNum=6&amp;lang=en\"><span class=\"btn btn-default\">6</span></a>\n",
      "     <a class=\"pagebutton\" href=\"results.php?pageNum=10561&amp;lang=en\"><span class=\"btn btn-default first\">10561</span></a>\n",
      "     <a href=\"attachment.php?attach=40168&amp;lang=en\">Attachment</a>\n",
      "     <a href=\"attachment.php?attach=40165&amp;lang=en\">Attachment</a>\n",
      "     <a href=\"attachment.php?attach=40164&amp;lang=en\">Attachment</a>\n",
      "     <a href=\"attachment.php?attach=40163&amp;lang=en\">Attachment</a>\n",
      "     <a href=\"attachment.php?attach=40162&amp;lang=en\">Attachment</a>\n",
      "     <a class=\"pagebutton\" href=\"results.php?pageNum=1&amp;lang=en\"><span class=\"currentpage btn btn-default\">1</span></a>\n",
      "     <a class=\"pagebutton\" href=\"results.php?pageNum=2&amp;lang=en\"><span class=\"btn btn-default\">2</span></a>\n",
      "     <a class=\"pagebutton\" href=\"results.php?pageNum=3&amp;lang=en\"><span class=\"btn btn-default\">3</span></a>\n",
      "     <a class=\"pagebutton\" href=\"results.php?pageNum=4&amp;lang=en\"><span class=\"btn btn-default\">4</span></a>\n",
      "     <a class=\"pagebutton\" href=\"results.php?pageNum=5&amp;lang=en\"><span class=\"btn btn-default\">5</span></a>\n",
      "     <a class=\"pagebutton\" href=\"results.php?pageNum=6&amp;lang=en\"><span class=\"btn btn-default\">6</span></a>\n",
      "     <a class=\"pagebutton\" href=\"results.php?pageNum=10561&amp;lang=en\"><span class=\"btn btn-default first\">10561</span></a>\n",
      "     <a href=\"https://www.canada.ca/activities.html\">Access Government of Canada activities and initiatives</a>\n",
      "     <a href=\"https://www.canada.ca/en/contact.html\">Contact us</a>\n",
      "     <a href=\"https://www.canada.ca/en/government/dept.html\">Departments and agencies</a>\n",
      "     <a href=\"https://www.canada.ca/en/government/publicservice.html\">Public service and military</a>\n",
      "     <a href=\"http://www.servicecanada.gc.ca/gcnews\">News</a>\n",
      "     <a href=\"https://www.canada.ca/en/government/system/laws.html\">Treaties, laws and regulations</a>\n",
      "     <a href=\"https://www.canada.ca/en/transparency/reporting.html\">Government-wide reporting</a>\n",
      "     <a href=\"http://pm.gc.ca/eng\">Prime Minister</a>\n",
      "     <a href=\"https://www.canada.ca/en/government/system.html\">How government works</a>\n",
      "     <a href=\"http://open.canada.ca/en/\">Open government</a>\n",
      "     <a href=\"https://www.canada.ca/en/social.html\">Social media</a>\n",
      "     <a href=\"https://www.canada.ca/en/mobile.html\">Mobile applications</a>\n",
      "     <a href=\"https://www1.canada.ca/en/newsite.html\">About Canada.ca</a>\n",
      "     <a href=\"https://www.canada.ca/en/transparency/terms.html\">Terms and conditions</a>\n",
      "     <a href=\"https://www.canada.ca/en/transparency/privacy.html\">Privacy</a>\n",
      "     <a href=\"#wb-cont\">Top of Page <span class=\"glyphicon glyphicon-chevron-up\"></span></a>\n"
     ]
    }
   ],
   "source": [
    "browser.list_links()"
   ]
  },
  {
   "cell_type": "markdown",
   "metadata": {},
   "source": [
    "## Find Highest Page Number Returned"
   ]
  },
  {
   "cell_type": "code",
   "execution_count": 12,
   "metadata": {},
   "outputs": [
    {
     "data": {
      "text/plain": [
       "'10561'"
      ]
     },
     "execution_count": 12,
     "metadata": {},
     "output_type": "execute_result"
    }
   ],
   "source": [
    "highest_page_number = browser.page.find(\"span\", \"btn btn-default first\").string\n",
    "type(highest_page_number)\n",
    "highest_page_number"
   ]
  },
  {
   "cell_type": "markdown",
   "metadata": {},
   "source": [
    "## Follow Link to First Attachment"
   ]
  },
  {
   "cell_type": "code",
   "execution_count": 13,
   "metadata": {},
   "outputs": [
    {
     "data": {
      "text/plain": [
       "[<a href=\"attachment.php?attach=40168&amp;lang=en\">Attachment</a>,\n",
       " <a href=\"attachment.php?attach=40165&amp;lang=en\">Attachment</a>,\n",
       " <a href=\"attachment.php?attach=40164&amp;lang=en\">Attachment</a>,\n",
       " <a href=\"attachment.php?attach=40163&amp;lang=en\">Attachment</a>,\n",
       " <a href=\"attachment.php?attach=40162&amp;lang=en\">Attachment</a>]"
      ]
     },
     "execution_count": 13,
     "metadata": {},
     "output_type": "execute_result"
    }
   ],
   "source": [
    "browser.links(\"attachment\")"
   ]
  },
  {
   "cell_type": "code",
   "execution_count": 14,
   "metadata": {},
   "outputs": [
    {
     "name": "stdout",
     "output_type": "stream",
     "text": [
      "https://orders-in-council.canada.ca/attachment.php?attach=40168&lang=en\n",
      "https://orders-in-council.canada.ca/attachment.php?attach=40165&lang=en\n",
      "https://orders-in-council.canada.ca/attachment.php?attach=40164&lang=en\n",
      "https://orders-in-council.canada.ca/attachment.php?attach=40163&lang=en\n",
      "https://orders-in-council.canada.ca/attachment.php?attach=40162&lang=en\n"
     ]
    }
   ],
   "source": [
    "#browser.links(\"attachment\")\n",
    "\n",
    "for i in browser.links(\"attachment\"):\n",
    "    browser.follow_link(i)\n",
    "    print(browser.url)\n",
    "    soup = browser.page\n",
    "    soup.select(\"p:-soup-contains(Minister)\")"
   ]
  },
  {
   "cell_type": "code",
   "execution_count": 15,
   "metadata": {},
   "outputs": [
    {
     "data": {
      "text/plain": [
       "[<p style=\"text-indent:1.00in;text-align:left;margin-top:0.00in;margin-bottom:0.00in;\">\n",
       " Her Excellency the Governor General in Council, on the recommendation of the Minister of Canadian Heritage, pursuant to section 18 of the <em>Cultural Property Export and Import Act</em>, reappoints Laurie Dalton of Wolfville, Nova Scotia, as a member of the Canadian Cultural Property Export Review Board, to hold office during pleasure for a term of three years.</p>]"
      ]
     },
     "execution_count": 15,
     "metadata": {},
     "output_type": "execute_result"
    }
   ],
   "source": [
    "soup.select(\"p:-soup-contains(Minister)\")"
   ]
  }
 ],
 "metadata": {
  "kernelspec": {
   "display_name": "Python 3",
   "language": "python",
   "name": "python3"
  },
  "language_info": {
   "codemirror_mode": {
    "name": "ipython",
    "version": 3
   },
   "file_extension": ".py",
   "mimetype": "text/x-python",
   "name": "python",
   "nbconvert_exporter": "python",
   "pygments_lexer": "ipython3",
   "version": "3.8.5"
  }
 },
 "nbformat": 4,
 "nbformat_minor": 4
}
