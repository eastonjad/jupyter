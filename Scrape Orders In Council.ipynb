{
 "cells": [
  {
   "cell_type": "markdown",
   "metadata": {},
   "source": [
    "# Scrape Appointees from Orders in Council"
   ]
  },
  {
   "cell_type": "markdown",
   "metadata": {},
   "source": [
    "## Get Search Page"
   ]
  },
  {
   "cell_type": "code",
   "execution_count": 1,
   "metadata": {},
   "outputs": [],
   "source": [
    "import mechanicalsoup\n",
    "import re\n",
    "import logging"
   ]
  },
  {
   "cell_type": "code",
   "execution_count": 2,
   "metadata": {},
   "outputs": [],
   "source": [
    "logging.basicConfig(filename=\"/home/john/oic_scraping.log\", level=logging.INFO)"
   ]
  },
  {
   "cell_type": "code",
   "execution_count": 3,
   "metadata": {},
   "outputs": [],
   "source": [
    "browser = mechanicalsoup.StatefulBrowser()"
   ]
  },
  {
   "cell_type": "code",
   "execution_count": 4,
   "metadata": {},
   "outputs": [],
   "source": [
    "url = \"https://orders-in-council.canada.ca/index.php?lang=en\""
   ]
  },
  {
   "cell_type": "code",
   "execution_count": 5,
   "metadata": {},
   "outputs": [
    {
     "data": {
      "text/plain": [
       "<Response [200]>"
      ]
     },
     "execution_count": 5,
     "metadata": {},
     "output_type": "execute_result"
    }
   ],
   "source": [
    "browser.open(url)"
   ]
  },
  {
   "cell_type": "markdown",
   "metadata": {},
   "source": [
    "## Enter Form Search Criteria"
   ]
  },
  {
   "cell_type": "code",
   "execution_count": 6,
   "metadata": {},
   "outputs": [
    {
     "data": {
      "text/plain": [
       "<mechanicalsoup.form.Form at 0x7f779c101eb0>"
      ]
     },
     "execution_count": 6,
     "metadata": {},
     "output_type": "execute_result"
    }
   ],
   "source": [
    "browser.select_form()"
   ]
  },
  {
   "cell_type": "code",
   "execution_count": 7,
   "metadata": {},
   "outputs": [],
   "source": [
    "browser[\"fromDate\"] = \"1993-01-01\""
   ]
  },
  {
   "cell_type": "code",
   "execution_count": 8,
   "metadata": {},
   "outputs": [
    {
     "name": "stdout",
     "output_type": "stream",
     "text": [
      "<input class=\"form-control inputText\" id=\"pcNumber\" name=\"pcNumber\" placeholder=\"yyyy-nnnn\" type=\"text\"/>\n",
      "<input class=\"form-control inputText\" name=\"fromDate\" placeholder=\"yyyy-mm-dd\" type=\"text\" value=\"1993-01-01\"/>\n",
      "<input class=\"form-control inputText\" name=\"toDate\" placeholder=\"yyyy-mm-dd\" type=\"text\"/>\n",
      "<input class=\"form-control inputText\" name=\"keywords\" type=\"text\"/>\n",
      "<input class=\"form-control inputText\" name=\"department\" type=\"text\"/>\n",
      "<input class=\"form-control inputText\" name=\"act\" type=\"text\"/>\n",
      "<input class=\"form-control inputText\" name=\"chapterNumber\" type=\"text\"/>\n",
      "<input class=\"form-control inputText\" name=\"chapterYear\" type=\"text\"/>\n",
      "<input class=\"form-control inputText\" name=\"billNumber\" type=\"text\"/>\n",
      "<input name=\"foa\" type=\"radio\" value=\"1\"/>\n",
      "<input name=\"foa\" type=\"radio\" value=\"0\"/>\n",
      "<input checked=\"\" name=\"foa\" type=\"radio\" value=\"na\"/>\n",
      "<input class=\"btn btn-primary\" id=\"btnSearch\" name=\"searchList\" type=\"submit\" value=\"Search/ List\"/>\n",
      "<input class=\"btn btn-default\" name=\"clear\" type=\"submit\" value=\"Clear\"/>\n"
     ]
    }
   ],
   "source": [
    "browser.form.print_summary()"
   ]
  },
  {
   "cell_type": "code",
   "execution_count": 9,
   "metadata": {},
   "outputs": [],
   "source": [
    "#browser.launch_browser()"
   ]
  },
  {
   "cell_type": "markdown",
   "metadata": {},
   "source": [
    "## Submit Form and Retrieve Results Page"
   ]
  },
  {
   "cell_type": "code",
   "execution_count": 10,
   "metadata": {},
   "outputs": [],
   "source": [
    "response = browser.submit_selected()"
   ]
  },
  {
   "cell_type": "code",
   "execution_count": 11,
   "metadata": {},
   "outputs": [],
   "source": [
    "#print(response.text)"
   ]
  },
  {
   "cell_type": "code",
   "execution_count": 12,
   "metadata": {},
   "outputs": [
    {
     "name": "stdout",
     "output_type": "stream",
     "text": [
      "Links in the current page:\n",
      "     <a class=\"pagebutton\" href=\"results.php?pageNum=1&amp;lang=en\"><span class=\"currentpage btn btn-default\">1</span></a>\n",
      "     <a class=\"pagebutton\" href=\"results.php?pageNum=2&amp;lang=en\"><span class=\"btn btn-default\">2</span></a>\n",
      "     <a class=\"pagebutton\" href=\"results.php?pageNum=3&amp;lang=en\"><span class=\"btn btn-default\">3</span></a>\n",
      "     <a class=\"pagebutton\" href=\"results.php?pageNum=4&amp;lang=en\"><span class=\"btn btn-default\">4</span></a>\n",
      "     <a class=\"pagebutton\" href=\"results.php?pageNum=5&amp;lang=en\"><span class=\"btn btn-default\">5</span></a>\n",
      "     <a class=\"pagebutton\" href=\"results.php?pageNum=6&amp;lang=en\"><span class=\"btn btn-default\">6</span></a>\n",
      "     <a class=\"pagebutton\" href=\"results.php?pageNum=10561&amp;lang=en\"><span class=\"btn btn-default first\">10561</span></a>\n",
      "     <a href=\"attachment.php?attach=40168&amp;lang=en\">Attachment</a>\n",
      "     <a href=\"attachment.php?attach=40165&amp;lang=en\">Attachment</a>\n",
      "     <a href=\"attachment.php?attach=40164&amp;lang=en\">Attachment</a>\n",
      "     <a href=\"attachment.php?attach=40163&amp;lang=en\">Attachment</a>\n",
      "     <a href=\"attachment.php?attach=40162&amp;lang=en\">Attachment</a>\n",
      "     <a class=\"pagebutton\" href=\"results.php?pageNum=1&amp;lang=en\"><span class=\"currentpage btn btn-default\">1</span></a>\n",
      "     <a class=\"pagebutton\" href=\"results.php?pageNum=2&amp;lang=en\"><span class=\"btn btn-default\">2</span></a>\n",
      "     <a class=\"pagebutton\" href=\"results.php?pageNum=3&amp;lang=en\"><span class=\"btn btn-default\">3</span></a>\n",
      "     <a class=\"pagebutton\" href=\"results.php?pageNum=4&amp;lang=en\"><span class=\"btn btn-default\">4</span></a>\n",
      "     <a class=\"pagebutton\" href=\"results.php?pageNum=5&amp;lang=en\"><span class=\"btn btn-default\">5</span></a>\n",
      "     <a class=\"pagebutton\" href=\"results.php?pageNum=6&amp;lang=en\"><span class=\"btn btn-default\">6</span></a>\n",
      "     <a class=\"pagebutton\" href=\"results.php?pageNum=10561&amp;lang=en\"><span class=\"btn btn-default first\">10561</span></a>\n",
      "     <a href=\"https://www.canada.ca/activities.html\">Access Government of Canada activities and initiatives</a>\n",
      "     <a href=\"https://www.canada.ca/en/contact.html\">Contact us</a>\n",
      "     <a href=\"https://www.canada.ca/en/government/dept.html\">Departments and agencies</a>\n",
      "     <a href=\"https://www.canada.ca/en/government/publicservice.html\">Public service and military</a>\n",
      "     <a href=\"http://www.servicecanada.gc.ca/gcnews\">News</a>\n",
      "     <a href=\"https://www.canada.ca/en/government/system/laws.html\">Treaties, laws and regulations</a>\n",
      "     <a href=\"https://www.canada.ca/en/transparency/reporting.html\">Government-wide reporting</a>\n",
      "     <a href=\"http://pm.gc.ca/eng\">Prime Minister</a>\n",
      "     <a href=\"https://www.canada.ca/en/government/system.html\">How government works</a>\n",
      "     <a href=\"http://open.canada.ca/en/\">Open government</a>\n",
      "     <a href=\"https://www.canada.ca/en/social.html\">Social media</a>\n",
      "     <a href=\"https://www.canada.ca/en/mobile.html\">Mobile applications</a>\n",
      "     <a href=\"https://www1.canada.ca/en/newsite.html\">About Canada.ca</a>\n",
      "     <a href=\"https://www.canada.ca/en/transparency/terms.html\">Terms and conditions</a>\n",
      "     <a href=\"https://www.canada.ca/en/transparency/privacy.html\">Privacy</a>\n",
      "     <a href=\"#wb-cont\">Top of Page <span class=\"glyphicon glyphicon-chevron-up\"></span></a>\n"
     ]
    }
   ],
   "source": [
    "browser.list_links()"
   ]
  },
  {
   "cell_type": "markdown",
   "metadata": {},
   "source": [
    "## Find Highest Page Number Returned"
   ]
  },
  {
   "cell_type": "code",
   "execution_count": 13,
   "metadata": {},
   "outputs": [
    {
     "name": "stdout",
     "output_type": "stream",
     "text": [
      "10561\n"
     ]
    }
   ],
   "source": [
    "highest_page_number = browser.page.find(\"span\", \"btn btn-default first\").string\n",
    "highest_page_number = int(str(highest_page_number))\n",
    "print(highest_page_number)"
   ]
  },
  {
   "cell_type": "markdown",
   "metadata": {},
   "source": [
    "## Get next page link"
   ]
  },
  {
   "cell_type": "code",
   "execution_count": 14,
   "metadata": {},
   "outputs": [
    {
     "name": "stdout",
     "output_type": "stream",
     "text": [
      "<a class=\"pagebutton\" href=\"results.php?pageNum=2&amp;lang=en\"><span class=\"btn btn-default\">2</span></a>\n"
     ]
    }
   ],
   "source": [
    "next_page = browser.links()[1]\n",
    "print(next_page)"
   ]
  },
  {
   "cell_type": "markdown",
   "metadata": {},
   "source": [
    "## Find all Links to Attachments Within the Page"
   ]
  },
  {
   "cell_type": "code",
   "execution_count": 15,
   "metadata": {},
   "outputs": [
    {
     "data": {
      "text/plain": [
       "[<a href=\"attachment.php?attach=40168&amp;lang=en\">Attachment</a>,\n",
       " <a href=\"attachment.php?attach=40165&amp;lang=en\">Attachment</a>,\n",
       " <a href=\"attachment.php?attach=40164&amp;lang=en\">Attachment</a>,\n",
       " <a href=\"attachment.php?attach=40163&amp;lang=en\">Attachment</a>,\n",
       " <a href=\"attachment.php?attach=40162&amp;lang=en\">Attachment</a>]"
      ]
     },
     "execution_count": 15,
     "metadata": {},
     "output_type": "execute_result"
    }
   ],
   "source": [
    "browser.links(\"attachment\")"
   ]
  },
  {
   "cell_type": "markdown",
   "metadata": {},
   "source": [
    "## For Each Page in Search Results, Download Each Attachment Containing 'appoint'"
   ]
  },
  {
   "cell_type": "code",
   "execution_count": 16,
   "metadata": {},
   "outputs": [],
   "source": [
    "pages = 0\n",
    "while pages < highest_page_number:\n",
    "    actual_page_num = pages + 1\n",
    "    next_page_num = actual_page_num + 1\n",
    "    # Build next_page link\n",
    "    if(pages > 0):\n",
    "        next_page['href'] = next_page['href'].replace(str(actual_page_num),str(next_page_num))\n",
    "        next_page.string = str(next_page_num)\n",
    "        \n",
    "    logging.info(\"Processing page \" + str(actual_page_num) + \", next page is \" + next_page.string)\n",
    "    \n",
    "    for i in browser.links(\"attachment\"):\n",
    "        browser.follow_link(i)\n",
    "        soup = browser.page\n",
    "\n",
    "        # search method 1: use bs4 to search\n",
    "        #appoints = soup.select(\"p:-soup-contains(appoint)\")\n",
    "\n",
    "        # search method 2: get_text() from bs4 and use Python find() to search\n",
    "        if(soup.get_text().lower().find(\"appoint\") > 0):\n",
    "            # Get PC Number from page\n",
    "            pc_number = soup.p.contents[1]\n",
    "            # Get Date from page\n",
    "            oic_date = soup.find_all(\"p\")[1].contents[1]\n",
    "            # Assemble filename and save file\n",
    "            filename = oic_date + \"_\" + \"PCNumber\" + \"_\" + pc_number + \".html\"\n",
    "            logging.info(\"Found search string 'appoint', downloading \" + browser.url + \" to \" + filename)\n",
    "            browser.download_link(i,\"/home/john/OrdersInCouncilAppointments/\" + filename)\n",
    "    logging.info(\"Page \" + str(actual_page_num) + \" complete...\")\n",
    "    browser.follow_link(next_page)\n",
    "    pages += 1"
   ]
  }
 ],
 "metadata": {
  "kernelspec": {
   "display_name": "Python 3",
   "language": "python",
   "name": "python3"
  },
  "language_info": {
   "codemirror_mode": {
    "name": "ipython",
    "version": 3
   },
   "file_extension": ".py",
   "mimetype": "text/x-python",
   "name": "python",
   "nbconvert_exporter": "python",
   "pygments_lexer": "ipython3",
   "version": "3.8.5"
  }
 },
 "nbformat": 4,
 "nbformat_minor": 4
}
